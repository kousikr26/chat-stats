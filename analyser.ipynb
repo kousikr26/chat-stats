{
 "cells": [
  {
   "cell_type": "code",
   "execution_count": null,
   "metadata": {},
   "outputs": [],
   "source": [
    "import pandas as pd\n",
    "import matplotlib.pyplot as plt\n",
    "import re\n",
    "import numpy as np\n",
    "import seaborn as sns\n",
    "%matplotlib inline"
   ]
  },
  {
   "cell_type": "markdown",
   "metadata": {},
   "source": [
    "Place the exported chat file in the same directory and change the file name below"
   ]
  },
  {
   "cell_type": "code",
   "execution_count": null,
   "metadata": {},
   "outputs": [],
   "source": [
    "group_name=\"BOIOIOING BOIS\"\n",
    "exported_file=\"boioioing.txt\"\n",
    "chats=open(exported_file,\"r\")"
   ]
  },
  {
   "cell_type": "code",
   "execution_count": null,
   "metadata": {},
   "outputs": [],
   "source": [
    "df=pd.DataFrame(columns=[\"Day\",\"Month\",\"Year\",\"Hour\",\"Minutes\",\"Sender\",\"Message\"])"
   ]
  },
  {
   "cell_type": "markdown",
   "metadata": {},
   "source": [
    "Following block parses text file and creates a pandas data frame"
   ]
  },
  {
   "cell_type": "code",
   "execution_count": null,
   "metadata": {},
   "outputs": [],
   "source": [
    "i=0\n",
    "while True:\n",
    "    line=chats.readline()\n",
    "    if not line:\n",
    "        break\n",
    "    x=re.search(\"(([0-9]){2}/){2}([0-9]){4}, [0-9]{2}:[0-9]{2} - \",line)  \n",
    "    y=re.search(\"(([0-9]){2}/){2}([0-9]){4}, [0-9]{2}:[0-9]{2} - .+?:\",line)  \n",
    "    \n",
    "    if x is None:\n",
    "        if i!=0:\n",
    "            df.loc[i-1][6]+=line\n",
    "            continue\n",
    "        else:\n",
    "            print(\"First line doesnt contain a timestamp\")\n",
    "            continue\n",
    "    else:\n",
    "        targetString=x.group()\n",
    "        if (re.search(\"changed the subject from\",line) is None) and (re.search(\"this group's icon\",line) is None):\n",
    "            if y is not None:\n",
    "                nameString=y.group()\n",
    "                df.loc[i]=[targetString[0:2],targetString[3:5],targetString[6:10],targetString[12:14],targetString[15:17],nameString[20:-1],line[y.span()[1]:-1]]\n",
    "            else:\n",
    "                df.loc[i]=[targetString[0:2],targetString[3:5],targetString[6:10],targetString[12:14],targetString[15:17],np.nan,line[x.span()[1]:-1]]\n",
    "        else:\n",
    "            df.loc[i]=[targetString[0:2],targetString[3:5],targetString[6:10],targetString[12:14],targetString[15:17],np.nan,line[x.span()[1]:-1]]\n",
    "    i+=1\n"
   ]
  },
  {
   "cell_type": "code",
   "execution_count": null,
   "metadata": {},
   "outputs": [],
   "source": [
    "if \"Timestamp\" not in df:\n",
    "    df.insert(0,\"Timestamp\",pd.to_datetime(df[\"Day\"]+\"-\"+df[\"Month\"]+\"-\"+df[\"Year\"]+\" \"+df[\"Hour\"]+\":\"+df[\"Minutes\"],dayfirst=True),True)\n",
    "df=df.set_index('Timestamp')"
   ]
  },
  {
   "cell_type": "code",
   "execution_count": null,
   "metadata": {},
   "outputs": [],
   "source": [
    "print(i, \" chats read\")\n",
    "df.head()"
   ]
  },
  {
   "cell_type": "code",
   "execution_count": null,
   "metadata": {},
   "outputs": [],
   "source": [
    "print(\"Name/Phone\\tMessages Sent\")\n",
    "message_counts=df[\"Sender\"].value_counts(sort=True,dropna=True)\n",
    "print(message_counts)\n",
    "user_list=message_counts.index.tolist()\n",
    "message_count_list=message_counts.values.tolist()"
   ]
  },
  {
   "cell_type": "code",
   "execution_count": null,
   "metadata": {},
   "outputs": [],
   "source": [
    "plt.title(\"Distribution of messages\",y=1.08)\n",
    "labels=message_counts.index.tolist()[:5]\n",
    "reduced_message_counts=message_count_list[:5]\n",
    "if sum(message_count_list[5:])!=0:\n",
    "    reduced_message_counts.append(sum(message_count_list[5:]))\n",
    "    \n",
    "    labels.append(\"Others\")\n",
    "plt.pie(reduced_message_counts,autopct='%1.1f%%',pctdistance=1.2,labels=labels,labeldistance=1.4)\n",
    "\n",
    "plt.savefig(group_name+\" message distribution.png\")\n",
    "plt.show()"
   ]
  },
  {
   "cell_type": "code",
   "execution_count": null,
   "metadata": {},
   "outputs": [],
   "source": [
    "df.head(15)"
   ]
  },
  {
   "cell_type": "code",
   "execution_count": null,
   "metadata": {},
   "outputs": [],
   "source": [
    "avg_message_lengths=[]\n",
    "for i in user_list:\n",
    "    avg_message_lengths.append(df[df[\"Sender\"]==i][\"Message\"].str.split().apply(len).mean())"
   ]
  },
  {
   "cell_type": "code",
   "execution_count": null,
   "metadata": {},
   "outputs": [],
   "source": [
    "sns.set()\n",
    "pos=np.arange(len(user_list))*0.3\n",
    "plt.bar(pos, avg_message_lengths, width=0.1,align='center', alpha=0.9)\n",
    "plt.xticks(pos, user_list)\n",
    "plt.ylabel('Average number of words in a message')\n",
    "plt.savefig(group_name+\" average words.png\")\n",
    "plt.show()\n",
    "\n"
   ]
  },
  {
   "cell_type": "code",
   "execution_count": null,
   "metadata": {},
   "outputs": [],
   "source": [
    "sns.set(rc={'figure.figsize':(11, 4)})\n",
    "df[\"Message\"].apply(len).plot(linewidth=0.5);"
   ]
  },
  {
   "cell_type": "code",
   "execution_count": null,
   "metadata": {},
   "outputs": [],
   "source": []
  }
 ],
 "metadata": {
  "kernelspec": {
   "display_name": "Python 3",
   "language": "python",
   "name": "python3"
  },
  "language_info": {
   "codemirror_mode": {
    "name": "ipython",
    "version": 3
   },
   "file_extension": ".py",
   "mimetype": "text/x-python",
   "name": "python",
   "nbconvert_exporter": "python",
   "pygments_lexer": "ipython3",
   "version": "3.7.3"
  }
 },
 "nbformat": 4,
 "nbformat_minor": 2
}
